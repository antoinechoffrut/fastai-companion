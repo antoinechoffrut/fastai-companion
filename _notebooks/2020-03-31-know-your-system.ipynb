{
 "cells": [
  {
   "cell_type": "markdown",
   "metadata": {},
   "source": [
    "# Know your system\n",
    "> Finding information on os, python install, and packages.\n",
    "\n",
    "- toc: true \n",
    "- badges: true\n",
    "- comments: true\n",
    "- categories: [system]"
   ]
  },
  {
   "cell_type": "markdown",
   "metadata": {},
   "source": [
    "# This notebook"
   ]
  },
  {
   "cell_type": "markdown",
   "metadata": {},
   "source": [
    "This notebook shows how to find information about your system such as:  \n",
    "- OS information\n",
    "- `python` version and install location\n",
    "- package and module versions and install locations"
   ]
  },
  {
   "cell_type": "markdown",
   "metadata": {},
   "source": [
    "# My system\n",
    "Some adjusments may be needed if you work on different platforms (especially Windows), or if you use other managers, such as `conda`:\n",
    "- I work locally (mostly) on a mac;  \n",
    "- I use `pyenv` as `python` version manager, and its plug-in `pyenv-virtualenv` as virtual environment manager.  \n",
    "\n",
    "\n",
    "\n",
    "---\n",
    "tags: system platform virtual environment management install python jupyter pytorch fastai workflow productivity"
   ]
  },
  {
   "cell_type": "markdown",
   "metadata": {},
   "source": [
    "# Tools and references"
   ]
  },
  {
   "cell_type": "markdown",
   "metadata": {},
   "source": [
    "## `Python` modules \n",
    "- `sys`\n",
    "- `site`\n",
    "- `platform`\n",
    "\n",
    "## Utilities\n",
    "- `pip`: `Python` package management system\n",
    "- [`pyenv`](https://github.com/pyenv/pyenv): `Python` version management system\n",
    "- [`pyenv-virtualenv`](https://github.com/pyenv/pyenv-virtualenv): virtual environment management system\n",
    "- `jupyter`: interactive platform for scientific computing\n",
    "\n",
    "## Helpful commands\n",
    "- [Built-in magic commands](https://ipython.readthedocs.io/en/stable/interactive/magics.html) (IPython documentation)\n",
    "- [Python vs IPython](https://ipython.readthedocs.io/en/stable/interactive/python-ipython-diff.html) (IPython documentation)\n",
    "\n",
    "## Useful references\n",
    "- [3 ways to `pip install` a package - fastai2 use case](https://ai-fast-track.github.io/blog/python/2020/03/17/how-to-pip-install-package.html) by [Farid](https://ai-fast-track.github.io/blog/) [Hussainia](https://forums.fast.ai/u/farid)\n",
    "- [How do I find the location of my python site packages directory?](https://stackoverflow.com/questions/122327/how-do-i-find-the-location-of-my-python-site-packages-directory/46071447#46071447) (stackoverflow)\n",
    "\n",
    "---"
   ]
  },
  {
   "cell_type": "markdown",
   "metadata": {},
   "source": [
    "# Environment"
   ]
  },
  {
   "cell_type": "markdown",
   "metadata": {},
   "source": [
    "## System"
   ]
  },
  {
   "cell_type": "markdown",
   "metadata": {},
   "source": [
    "I usually work locally on a MacBook Pro (2018).  In particular I don't have a GPU (at least not a dedicated GPU)."
   ]
  },
  {
   "cell_type": "code",
   "execution_count": 1,
   "metadata": {},
   "outputs": [
    {
     "name": "stdout",
     "output_type": "stream",
     "text": [
      "Platform: macOS-10.15.4-x86_64-i386-64bit\n",
      "\n",
      "Details:\n",
      "Machine type:   x86_64\n",
      "System:         Darwin\n",
      "Version:        Darwin Kernel Version 19.4.0: Wed Mar  4 22:28:40 PST 2020; root:xnu-6153.101.6~15/RELEASE_X86_64\n",
      "Processor:      i386\n",
      "Release:        19.4.0\n",
      "Mac OS version: ('10.15.4', ('', '', ''), 'x86_64')\n"
     ]
    }
   ],
   "source": [
    "# collapse-hide\n",
    "import platform\n",
    "\n",
    "print(f\"Platform: {platform.platform()}\\n\")\n",
    "print(\"Details:\")\n",
    "print(f\"Machine type:   {platform.machine()}\")\n",
    "print(f\"System:         {platform.system()}\")\n",
    "print(f\"Version:        {platform.version()}\")\n",
    "print(f\"Processor:      {platform.processor()}\")\n",
    "print(f\"Release:        {platform.release()}\")\n",
    "print(f\"Mac OS version: {platform.mac_ver()}\")"
   ]
  },
  {
   "cell_type": "markdown",
   "metadata": {},
   "source": [
    "## Virtual environments (with `pyenv`)"
   ]
  },
  {
   "cell_type": "markdown",
   "metadata": {},
   "source": [
    "I use [`pyenv`](https://github.com/pyenv/pyenv) to manage `Python` versions, and the extension [`pyenv-virtualenv`](https://github.com/pyenv/pyenv-virtualenv) to manage virtual environments."
   ]
  },
  {
   "cell_type": "code",
   "execution_count": 2,
   "metadata": {},
   "outputs": [
    {
     "name": "stdout",
     "output_type": "stream",
     "text": [
      "pyenv 1.2.17\r\n"
     ]
    }
   ],
   "source": [
    "!pyenv -v"
   ]
  },
  {
   "cell_type": "markdown",
   "metadata": {},
   "source": [
    "To check which virtual environment is activated (with `pyenv`):"
   ]
  },
  {
   "cell_type": "code",
   "execution_count": 3,
   "metadata": {},
   "outputs": [
    {
     "name": "stdout",
     "output_type": "stream",
     "text": [
      "fastai2 (set by PYENV_VERSION environment variable)\r\n"
     ]
    }
   ],
   "source": [
    "!pyenv version"
   ]
  },
  {
   "cell_type": "markdown",
   "metadata": {},
   "source": [
    "## Python version"
   ]
  },
  {
   "cell_type": "markdown",
   "metadata": {
    "code_folding": []
   },
   "source": [
    "### Using the `sys` module"
   ]
  },
  {
   "cell_type": "code",
   "execution_count": 4,
   "metadata": {
    "code_folding": []
   },
   "outputs": [
    {
     "name": "stdout",
     "output_type": "stream",
     "text": [
      "3.8.1 (default, Mar 30 2020, 15:12:05) \n",
      "[Clang 11.0.3 (clang-1103.0.32.29)]\n"
     ]
    }
   ],
   "source": [
    "import sys\n",
    "print(sys.version) # alternatively: print(sys.version_info)"
   ]
  },
  {
   "cell_type": "markdown",
   "metadata": {
    "code_folding": []
   },
   "source": [
    "### Using the `platform` module"
   ]
  },
  {
   "cell_type": "code",
   "execution_count": 5,
   "metadata": {
    "code_folding": []
   },
   "outputs": [
    {
     "name": "stdout",
     "output_type": "stream",
     "text": [
      "Python: version 3.8.1\n",
      "Python build: ('default', 'Mar 30 2020 15:12:05')\n"
     ]
    }
   ],
   "source": [
    "import platform\n",
    "print(f\"Python: version {platform.python_version()}\")\n",
    "print(f\"Python build: {platform.python_build()}\")"
   ]
  },
  {
   "cell_type": "markdown",
   "metadata": {
    "code_folding": []
   },
   "source": [
    "### A convoluted alternative"
   ]
  },
  {
   "cell_type": "code",
   "execution_count": 6,
   "metadata": {
    "code_folding": []
   },
   "outputs": [
    {
     "name": "stdout",
     "output_type": "stream",
     "text": [
      "Python 3.8.1\r\n"
     ]
    }
   ],
   "source": [
    "!python --version"
   ]
  },
  {
   "cell_type": "markdown",
   "metadata": {},
   "source": [
    "## Installed packages"
   ]
  },
  {
   "cell_type": "markdown",
   "metadata": {},
   "source": [
    "### List of all packlages with `pip`"
   ]
  },
  {
   "cell_type": "code",
   "execution_count": 7,
   "metadata": {},
   "outputs": [],
   "source": [
    "# !pip freeze # uncomment to see full list"
   ]
  },
  {
   "cell_type": "markdown",
   "metadata": {},
   "source": [
    "Note that those lines beginning with `-e` correspond to packages installed in [editable mode](https://pip.pypa.io/en/stable/reference/pip_install/#editable-installs).  For example, following [Farid Hassainia's post](https://ai-fast-track.github.io/blog/python/2020/03/17/how-to-pip-install-package.html), I have an editable install of `fastai2` (see below)."
   ]
  },
  {
   "cell_type": "markdown",
   "metadata": {
    "code_folding": []
   },
   "source": [
    "### Check specific packages\n",
    "Check that `fastai2` is installed"
   ]
  },
  {
   "cell_type": "code",
   "execution_count": 8,
   "metadata": {
    "code_folding": []
   },
   "outputs": [
    {
     "name": "stdout",
     "output_type": "stream",
     "text": [
      "-e git+https://github.com/fastai/fastai2@44491962b1d79b2db0e89ffb3eee5129e9e1d489#egg=fastai2\r\n"
     ]
    }
   ],
   "source": [
    "!pip freeze | grep fastai2"
   ]
  },
  {
   "cell_type": "markdown",
   "metadata": {},
   "source": [
    "This is an editable install.  \n",
    "Otherwise, packages installed via `pip` are listed as usual.  Check that (e.g.). `numpy` is installed:"
   ]
  },
  {
   "cell_type": "code",
   "execution_count": 9,
   "metadata": {
    "code_folding": []
   },
   "outputs": [
    {
     "name": "stdout",
     "output_type": "stream",
     "text": [
      "numpy==1.18.2\r\n"
     ]
    }
   ],
   "source": [
    "!pip freeze | grep numpy"
   ]
  },
  {
   "cell_type": "markdown",
   "metadata": {},
   "source": [
    "## Package versions"
   ]
  },
  {
   "cell_type": "markdown",
   "metadata": {},
   "source": [
    "### Using the `__version__` attribute"
   ]
  },
  {
   "cell_type": "code",
   "execution_count": 10,
   "metadata": {
    "code_folding": []
   },
   "outputs": [
    {
     "name": "stdout",
     "output_type": "stream",
     "text": [
      "torch       : version 1.4.0\n",
      "fastai2     : version 0.0.17\n"
     ]
    }
   ],
   "source": [
    "import torch\n",
    "print(f\"{torch.__name__:<12}: version {torch.__version__}\")\n",
    "\n",
    "import fastai2\n",
    "print(f\"{fastai2.__name__:<12}: version {fastai2.__version__}\")"
   ]
  },
  {
   "cell_type": "markdown",
   "metadata": {},
   "source": [
    "## Locating the `Python` install (and chasing symlinks)"
   ]
  },
  {
   "cell_type": "markdown",
   "metadata": {
    "code_folding": []
   },
   "source": [
    "### Using `sys`\n",
    "Returns absolute path to `python` executable"
   ]
  },
  {
   "cell_type": "code",
   "execution_count": 11,
   "metadata": {
    "code_folding": []
   },
   "outputs": [
    {
     "data": {
      "text/plain": [
       "'/Users/antoine/.pyenv/versions/3.8.1/envs/fastai2/bin/python3.8'"
      ]
     },
     "execution_count": 11,
     "metadata": {},
     "output_type": "execute_result"
    }
   ],
   "source": [
    "import sys\n",
    "sys.executable"
   ]
  },
  {
   "cell_type": "markdown",
   "metadata": {},
   "source": [
    "Actually, this is a symlink:"
   ]
  },
  {
   "cell_type": "code",
   "execution_count": 12,
   "metadata": {},
   "outputs": [
    {
     "name": "stdout",
     "output_type": "stream",
     "text": [
      "lrwxr-xr-x  1 antoine  staff  50  2 Apr 10:56 \u001b[1m\u001b[35m/Users/antoine/.pyenv/versions/3.8.1/envs/fastai2/bin/python3.8\u001b[m\u001b[m -> /Users/antoine/.pyenv/versions/3.8.1/bin/python3.8\r\n"
     ]
    }
   ],
   "source": [
    "!ls -l /Users/antoine/.pyenv/versions/3.8.1/envs/fastai2/bin/python3.8"
   ]
  },
  {
   "cell_type": "code",
   "execution_count": 13,
   "metadata": {},
   "outputs": [
    {
     "name": "stdout",
     "output_type": "stream",
     "text": [
      "-rwxr-xr-x  1 antoine  staff  3572068 30 Mar 15:12 \u001b[1m\u001b[32m/Users/antoine/.pyenv/versions/3.8.1/bin/python3.8\u001b[m\u001b[m\r\n"
     ]
    }
   ],
   "source": [
    "!ls -l /Users/antoine/.pyenv/versions/3.8.1/bin/python3.8"
   ]
  },
  {
   "cell_type": "markdown",
   "metadata": {},
   "source": [
    "This is the executable:"
   ]
  },
  {
   "cell_type": "code",
   "execution_count": 14,
   "metadata": {},
   "outputs": [
    {
     "name": "stdout",
     "output_type": "stream",
     "text": [
      "/Users/antoine/.pyenv/versions/3.8.1/bin/python3.8: Mach-O 64-bit executable x86_64\r\n"
     ]
    }
   ],
   "source": [
    "!file /Users/antoine/.pyenv/versions/3.8.1/bin/python3.8"
   ]
  },
  {
   "cell_type": "markdown",
   "metadata": {},
   "source": [
    "### Using `bash` command `which`  \n",
    "Remark: [`pyenv` uses shims](https://github.com/pyenv/pyenv#understanding-shims), and running the comand `which python` in the cell below returns a different output if run from a terminal.  In that case, run `pyenv which python`."
   ]
  },
  {
   "cell_type": "code",
   "execution_count": 15,
   "metadata": {
    "code_folding": []
   },
   "outputs": [
    {
     "name": "stdout",
     "output_type": "stream",
     "text": [
      "/Users/antoine/.pyenv/versions/fastai2/bin/python\r\n"
     ]
    }
   ],
   "source": [
    "!which python"
   ]
  },
  {
   "cell_type": "markdown",
   "metadata": {},
   "source": [
    "This is a symlink:"
   ]
  },
  {
   "cell_type": "code",
   "execution_count": 16,
   "metadata": {},
   "outputs": [
    {
     "name": "stdout",
     "output_type": "stream",
     "text": [
      "lrwxr-xr-x  1 antoine  staff  9  2 Apr 10:56 \u001b[1m\u001b[35m/Users/antoine/.pyenv/versions/fastai2/bin/python\u001b[m\u001b[m -> python3.8\r\n"
     ]
    }
   ],
   "source": [
    "!ls -l /Users/antoine/.pyenv/versions/fastai2/bin/python"
   ]
  },
  {
   "cell_type": "markdown",
   "metadata": {},
   "source": [
    "What does it point to?"
   ]
  },
  {
   "cell_type": "code",
   "execution_count": 17,
   "metadata": {},
   "outputs": [
    {
     "name": "stdout",
     "output_type": "stream",
     "text": [
      "python3.8 is /Users/antoine/.pyenv/versions/fastai2/bin/python3.8\r\n"
     ]
    }
   ],
   "source": [
    "!type python3.8"
   ]
  },
  {
   "cell_type": "markdown",
   "metadata": {},
   "source": [
    "This is again a symlink:"
   ]
  },
  {
   "cell_type": "code",
   "execution_count": 18,
   "metadata": {},
   "outputs": [
    {
     "name": "stdout",
     "output_type": "stream",
     "text": [
      "lrwxr-xr-x  1 antoine  staff  50  2 Apr 10:56 \u001b[1m\u001b[35m/Users/antoine/.pyenv/versions/fastai2/bin/python3.8\u001b[m\u001b[m -> /Users/antoine/.pyenv/versions/3.8.1/bin/python3.8\r\n"
     ]
    }
   ],
   "source": [
    "!ls -l /Users/antoine/.pyenv/versions/fastai2/bin/python3.8"
   ]
  },
  {
   "cell_type": "markdown",
   "metadata": {},
   "source": [
    "which we have seen above."
   ]
  },
  {
   "cell_type": "markdown",
   "metadata": {},
   "source": [
    "## Locating packages"
   ]
  },
  {
   "cell_type": "markdown",
   "metadata": {},
   "source": [
    "### Read the `__path__` attribute\n",
    "For a package installe via `pip` in the usual way:"
   ]
  },
  {
   "cell_type": "code",
   "execution_count": 19,
   "metadata": {
    "code_folding": []
   },
   "outputs": [
    {
     "data": {
      "text/plain": [
       "['/Users/antoine/.pyenv/versions/3.8.1/envs/fastai2/lib/python3.8/site-packages/numpy']"
      ]
     },
     "execution_count": 19,
     "metadata": {},
     "output_type": "execute_result"
    }
   ],
   "source": [
    "import numpy\n",
    "numpy.__path__"
   ]
  },
  {
   "cell_type": "markdown",
   "metadata": {},
   "source": [
    "For an editable install, from a local copy of the repository:"
   ]
  },
  {
   "cell_type": "code",
   "execution_count": 20,
   "metadata": {},
   "outputs": [
    {
     "data": {
      "text/plain": [
       "['/Users/antoine/fastai/fastai2/fastai2']"
      ]
     },
     "execution_count": 20,
     "metadata": {},
     "output_type": "execute_result"
    }
   ],
   "source": [
    "import fastai2\n",
    "fastai2.__path__"
   ]
  },
  {
   "cell_type": "markdown",
   "metadata": {
    "code_folding": []
   },
   "source": [
    "### Using `!pip show`"
   ]
  },
  {
   "cell_type": "code",
   "execution_count": 21,
   "metadata": {
    "code_folding": []
   },
   "outputs": [
    {
     "name": "stdout",
     "output_type": "stream",
     "text": [
      "Location: /Users/antoine/.pyenv/versions/3.8.1/envs/fastai2/lib/python3.8/site-packages\r\n"
     ]
    }
   ],
   "source": [
    "!pip show numpy | grep Location\n",
    "# !pip show numpy # uncomment to see more info on package"
   ]
  },
  {
   "cell_type": "markdown",
   "metadata": {},
   "source": [
    "For an editable install:"
   ]
  },
  {
   "cell_type": "code",
   "execution_count": 22,
   "metadata": {
    "code_folding": []
   },
   "outputs": [
    {
     "name": "stdout",
     "output_type": "stream",
     "text": [
      "Location: /Users/antoine/fastai/fastai2\r\n"
     ]
    }
   ],
   "source": [
    "!pip show fastai2 | grep Location\n",
    "#!pip show fastai2 # uncomment to see more info on package"
   ]
  },
  {
   "cell_type": "markdown",
   "metadata": {},
   "source": [
    "### Search path for modules: `sys.path`\n",
    "`Python` looks for paths to modules by looking into a list of directories in `sys.path`:"
   ]
  },
  {
   "cell_type": "code",
   "execution_count": 23,
   "metadata": {
    "code_folding": []
   },
   "outputs": [
    {
     "data": {
      "text/plain": [
       "['/Users/antoine/fastai/fastai-companion/_notebooks',\n",
       " '/Users/antoine/.pyenv/versions/3.8.1/lib/python38.zip',\n",
       " '/Users/antoine/.pyenv/versions/3.8.1/lib/python3.8',\n",
       " '/Users/antoine/.pyenv/versions/3.8.1/lib/python3.8/lib-dynload',\n",
       " '',\n",
       " '/Users/antoine/.pyenv/versions/3.8.1/envs/fastai2/lib/python3.8/site-packages',\n",
       " '/Users/antoine/fastai/fastai2',\n",
       " '/Users/antoine/fastai/fastcore',\n",
       " '/Users/antoine/fastai/nbdev',\n",
       " '/Users/antoine/.pyenv/versions/3.8.1/envs/fastai2/lib/python3.8/site-packages/IPython/extensions',\n",
       " '/Users/antoine/.ipython']"
      ]
     },
     "execution_count": 23,
     "metadata": {},
     "output_type": "execute_result"
    }
   ],
   "source": [
    "import sys\n",
    "sys.path"
   ]
  },
  {
   "cell_type": "markdown",
   "metadata": {},
   "source": [
    "### List of all global `site-packages` directories\n",
    "Packages are normally installed in the `site-packages` folder of the `Python` installation.  This directory can be found using the `site` module:"
   ]
  },
  {
   "cell_type": "code",
   "execution_count": 24,
   "metadata": {
    "code_folding": []
   },
   "outputs": [
    {
     "data": {
      "text/plain": [
       "['/Users/antoine/.pyenv/versions/3.8.1/envs/fastai2/lib/python3.8/site-packages']"
      ]
     },
     "execution_count": 24,
     "metadata": {},
     "output_type": "execute_result"
    }
   ],
   "source": [
    "import site\n",
    "site.getsitepackages()"
   ]
  }
 ],
 "metadata": {
  "kernelspec": {
   "display_name": "Python 3",
   "language": "python",
   "name": "python3"
  },
  "language_info": {
   "codemirror_mode": {
    "name": "ipython",
    "version": 3
   },
   "file_extension": ".py",
   "mimetype": "text/x-python",
   "name": "python",
   "nbconvert_exporter": "python",
   "pygments_lexer": "ipython3",
   "version": "3.8.1"
  }
 },
 "nbformat": 4,
 "nbformat_minor": 4
}
