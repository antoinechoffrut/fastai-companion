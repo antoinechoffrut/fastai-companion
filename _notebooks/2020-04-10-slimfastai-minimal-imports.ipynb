{
 "cells": [
  {
   "cell_type": "markdown",
   "metadata": {},
   "source": [
    "# Slimfastai: mimimal imports in `fastai`\n",
    "> An alternative to `import *` invocations\n",
    "\n",
    "- toc: true \n",
    "- badges: true\n",
    "- comments: true\n",
    "- categories: [programming]"
   ]
  },
  {
   "cell_type": "markdown",
   "metadata": {},
   "source": [
    "# The Zen of `Python` and `import *` invocations\n",
    "The `fastai` library is designed to safely invoke `import *` to import everything from a module.  While this is often considered to go against [`Python`'s \"Explicit is better than implicit\"](https://www.python.org/dev/peps/pep-0020/), this deliberate choice is\n",
    "[explained in the `fastai` documentation](https://docs.fast.ai/index.html#Imports).\n",
    "\n",
    "It remains an instructive exercise to uncover which module contains a specific definition.  Also, for debugging purposes, it may be useful at times to load only what is needed, to narrow down the range of possible sources of errors.\n",
    "\n",
    "# Monkey patching\n",
    "In another notebook, we have seen that the `fastai` library adds convenience methods to classes from third party libraries.  The use case was the method `ls` added to the `pathlib` class `Path`.  This was done automatically via an `import *` invocation, which loads everything in the namespace in the specified libraries.\n",
    "\n",
    "This notebook shows how to load the class `Path` and its added methods only.\n",
    "\n",
    "---\n",
    "tags: programming exploration debugging python fastai"
   ]
  },
  {
   "cell_type": "markdown",
   "metadata": {},
   "source": [
    "# What is `Path`?\n",
    "\n",
    "An expedient way to find out everything we need to know about `Path` is given from `IPython`'s `?` command:"
   ]
  },
  {
   "cell_type": "code",
   "execution_count": 1,
   "metadata": {},
   "outputs": [],
   "source": [
    "from fastai2.vision.all import *\n",
    "Path?"
   ]
  },
  {
   "cell_type": "markdown",
   "metadata": {},
   "source": [
    "The command above displays its output in a separate banner at the bottom of the page of the web browser.  To access the same information directly:"
   ]
  },
  {
   "cell_type": "code",
   "execution_count": 2,
   "metadata": {},
   "outputs": [
    {
     "name": "stdout",
     "output_type": "stream",
     "text": [
      "Description for Path:\n",
      "PurePath subclass that can make system calls.\n",
      "\n",
      "    Path represents a filesystem path but unlike PurePath, also offers\n",
      "    methods to do system calls on path objects. Depending on your system,\n",
      "    instantiating a Path will return either a PosixPath or a WindowsPath\n",
      "    object. You can also instantiate a PosixPath or WindowsPath directly,\n",
      "    but cannot instantiate a WindowsPath on a POSIX system or vice versa.\n",
      "    \n",
      "Name of module defining Path:          pathlib\n",
      "Path to file with module source code:  /Users/antoine/.pyenv/versions/3.8.1/lib/python3.8/pathlib.py\n"
     ]
    }
   ],
   "source": [
    "from fastai2.vision.all import *\n",
    "import inspect\n",
    "\n",
    "print(\"Description for Path:\")\n",
    "print(Path.__doc__)\n",
    "print(f\"Name of module defining Path:          {inspect.getmodule(Path).__name__}\") # or directly: Path.__module__\n",
    "print(f\"Path to file with module source code:  {inspect.getmodule(Path).__file__}\")"
   ]
  },
  {
   "cell_type": "markdown",
   "metadata": {},
   "source": [
    "Conclusion: `Path` is a class from the `pathlib` library, which is part of the `Python` install."
   ]
  },
  {
   "cell_type": "markdown",
   "metadata": {},
   "source": [
    "# What is `Path.ls`?\n",
    "The relevant information is displayed in a separate banner with:"
   ]
  },
  {
   "cell_type": "code",
   "execution_count": 3,
   "metadata": {},
   "outputs": [],
   "source": [
    "from fastai2.vision.all import *\n",
    "Path.ls?"
   ]
  },
  {
   "cell_type": "markdown",
   "metadata": {},
   "source": [
    "Direct access:"
   ]
  },
  {
   "cell_type": "code",
   "execution_count": 4,
   "metadata": {},
   "outputs": [
    {
     "name": "stdout",
     "output_type": "stream",
     "text": [
      "Description for Path.ls:\n",
      "Contents of path as a list\n",
      "Name of module defining Path.ls:       fastcore.utils\n",
      "Path to file with module source code:  /Users/antoine/fastai/fastcore/fastcore/utils.py\n"
     ]
    }
   ],
   "source": [
    "from fastai2.vision.all import *\n",
    "import inspect\n",
    "\n",
    "print(\"Description for Path.ls:\")\n",
    "print((Path.ls).__doc__)\n",
    "print(f\"Name of module defining Path.ls:       {inspect.getmodule(Path.ls).__name__}\") # or directly: (Path.ls).__module__\n",
    "print(f\"Path to file with module source code:  {inspect.getmodule(Path.ls).__file__}\")"
   ]
  },
  {
   "cell_type": "markdown",
   "metadata": {},
   "source": [
    "Conclusion: the function `ls` has been added as a method to the class `Path`.  It is defined in the [`fastcore` library](https://fastcore.fast.ai), which collects functionalities not depending on `PyTorch`, unlike `fastai`."
   ]
  },
  {
   "cell_type": "markdown",
   "metadata": {},
   "source": [
    "# Minimal imports\n",
    "If one wishes only to import `Path` and the attributes added by `fastai`, run"
   ]
  },
  {
   "cell_type": "code",
   "execution_count": 5,
   "metadata": {},
   "outputs": [
    {
     "name": "stdout",
     "output_type": "stream",
     "text": [
      "Name of module defining Path:          pathlib\n",
      "Path to file with module source code:  /Users/antoine/.pyenv/versions/3.8.1/lib/python3.8/pathlib.py\n",
      "Name of module defining Path.ls:       fastcore.utils\n",
      "Path to file with module source code:  /Users/antoine/fastai/fastcore/fastcore/utils.py\n"
     ]
    }
   ],
   "source": [
    "%xdel Path\n",
    "from pathlib import Path\n",
    "from fastcore.utils import ls\n",
    "\n",
    "print(f\"Name of module defining Path:          {inspect.getmodule(Path).__name__}\") # or directly: Path.__module__\n",
    "print(f\"Path to file with module source code:  {inspect.getmodule(Path).__file__}\")\n",
    "print(f\"Name of module defining Path.ls:       {inspect.getmodule(Path.ls).__name__}\") # or directly: (Path.ls).__module__\n",
    "print(f\"Path to file with module source code:  {inspect.getmodule(Path.ls).__file__}\")"
   ]
  }
 ],
 "metadata": {
  "kernelspec": {
   "display_name": "Python 3",
   "language": "python",
   "name": "python3"
  },
  "language_info": {
   "codemirror_mode": {
    "name": "ipython",
    "version": 3
   },
   "file_extension": ".py",
   "mimetype": "text/x-python",
   "name": "python",
   "nbconvert_exporter": "python",
   "pygments_lexer": "ipython3",
   "version": "3.8.1"
  }
 },
 "nbformat": 4,
 "nbformat_minor": 4
}
