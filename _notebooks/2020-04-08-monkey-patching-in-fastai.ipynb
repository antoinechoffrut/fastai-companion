{
 "cells": [
  {
   "cell_type": "markdown",
   "metadata": {},
   "source": [
    "# Monkey patching in fastai\n",
    "> A case study with `Path.ls`\n",
    "\n",
    "- toc: true \n",
    "- badges: true\n",
    "- comments: true\n",
    "- categories: [programming]"
   ]
  },
  {
   "cell_type": "markdown",
   "metadata": {},
   "source": [
    "# Monkey patching\n",
    ">\"We do it in fastai all the time.\"\n",
    ">   \n",
    ">Jeremy Howard\n",
    "\n",
    "from [Swift For TensorFlow AND FastAI: Part 2](https://www.youtube.com/watch?v=Zr4QI64kUI4&list=PLderfcX9H9Mq8hv4W2ixqSTynwvBn9ppD&t=9m12s) (featuring Chris Lattner).\n",
    "\n",
    "Monkey patching refers to the practise of dynamically modifying classes and modules.  This is done quite frequently in the `fastai` library.\n",
    "\n",
    "This notebook dissects one common example, namely the [`ls()` method](https://fastcore.fast.ai/utils#Path.ls) added to the `Path` class from the `pathlib` `Python` library, which functionalities reminiscent of the [`ls` command in `bash`](https://ss64.com/bash/ls.html).  From the `fastcore` documentation:  \n",
    ">We add an `ls()` method to `pathlib.Path` which is simply defined as `list(Path.iterdir())`, mainly for convenience in REPL environments such as notebooks.\n",
    "\n",
    "---\n",
    "tags: programming python fastai exploration"
   ]
  },
  {
   "cell_type": "markdown",
   "metadata": {},
   "source": [
    "# The `pathlib` module\n",
    "\n",
    "The [`pathlib`](https://docs.python.org/3/library/pathlib.html) module provides functionalities to handle filesystem paths."
   ]
  },
  {
   "cell_type": "code",
   "execution_count": 1,
   "metadata": {},
   "outputs": [
    {
     "name": "stdout",
     "output_type": "stream",
     "text": [
      "Path to home directory:         /Users/antoine\n",
      "Object path has attribute ls:   False\n"
     ]
    }
   ],
   "source": [
    "from pathlib import Path\n",
    "\n",
    "path = Path().home()\n",
    "dir_native = dir(path)\n",
    "print(f\"Path to home directory:         {str(path)}\")\n",
    "print(f'Object path has attribute ls:   {\"ls\" in dir_native}')"
   ]
  },
  {
   "cell_type": "markdown",
   "metadata": {},
   "source": [
    "# Supercharging `Path` objects with `fastai`\n",
    "\n",
    "We first remove the `Path` class from our scope so that we can load it again via `fastai` (read on):"
   ]
  },
  {
   "cell_type": "code",
   "execution_count": 7,
   "metadata": {},
   "outputs": [
    {
     "name": "stdout",
     "output_type": "stream",
     "text": [
      "NameError: name 'Path' is not defined\n",
      "Class `Path` has been removed.\n"
     ]
    }
   ],
   "source": [
    "%xdel Path\n",
    "try:\n",
    "    Path\n",
    "    print(\"This will fail so this won't print\")\n",
    "except NameError:\n",
    "    print(\"Class `Path` has been removed.\")"
   ]
  },
  {
   "cell_type": "markdown",
   "metadata": {},
   "source": [
    "The following will automatically load `Path` (among many other things):"
   ]
  },
  {
   "cell_type": "code",
   "execution_count": 3,
   "metadata": {},
   "outputs": [
    {
     "name": "stdout",
     "output_type": "stream",
     "text": [
      "Path to home directory:         /Users/antoine\n",
      "Object path has attribute ls:   True\n"
     ]
    }
   ],
   "source": [
    "from fastai2.vision.all import *\n",
    "\n",
    "path = Path().home()\n",
    "dir_fastai = dir(path)\n",
    "print(f\"Path to home directory:         {str(path)}\")\n",
    "print(f'Object path has attribute ls:   {\"ls\" in dir_fastai}')"
   ]
  },
  {
   "cell_type": "markdown",
   "metadata": {},
   "source": [
    "The `ls` method is one of several attributes that `fastai` (in fact, `fastcore`, read on) adds to the `Path` class.  The list of added attributes is:"
   ]
  },
  {
   "cell_type": "code",
   "execution_count": 4,
   "metadata": {},
   "outputs": [
    {
     "data": {
      "text/plain": [
       "{'load',\n",
       " 'load_array',\n",
       " 'ls',\n",
       " 'read',\n",
       " 'readlines',\n",
       " 'save',\n",
       " 'save_array',\n",
       " 'write'}"
      ]
     },
     "execution_count": 4,
     "metadata": {},
     "output_type": "execute_result"
    }
   ],
   "source": [
    "set(dir_fastai) - set(dir_native)"
   ]
  },
  {
   "cell_type": "markdown",
   "metadata": {},
   "source": [
    "# Loading `Path` and `Path.ls` only?\n",
    "\n",
    "It is an instructive exercise to find out how to load `Path` and its attributes added in the `fastai` library only.  This is done in another notebook."
   ]
  }
 ],
 "metadata": {
  "kernelspec": {
   "display_name": "Python 3",
   "language": "python",
   "name": "python3"
  },
  "language_info": {
   "codemirror_mode": {
    "name": "ipython",
    "version": 3
   },
   "file_extension": ".py",
   "mimetype": "text/x-python",
   "name": "python",
   "nbconvert_exporter": "python",
   "pygments_lexer": "ipython3",
   "version": "3.8.1"
  }
 },
 "nbformat": 4,
 "nbformat_minor": 4
}
