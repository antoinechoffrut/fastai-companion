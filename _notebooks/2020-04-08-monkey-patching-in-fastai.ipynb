{
 "cells": [
  {
   "cell_type": "markdown",
   "metadata": {},
   "source": [
    "# Monkey patching in fastai\n",
    "> A case study with `Path.ls()`\n",
    "\n",
    "- toc: true \n",
    "- badges: true\n",
    "- comments: true\n",
    "- categories: [programming]"
   ]
  },
  {
   "cell_type": "markdown",
   "metadata": {},
   "source": [
    "---\n",
    "tags: programming python fastai exploration"
   ]
  },
  {
   "cell_type": "markdown",
   "metadata": {},
   "source": [
    "# Monkey patching"
   ]
  },
  {
   "cell_type": "markdown",
   "metadata": {},
   "source": [
    ">\"We do it in fastai all the time.\"\n",
    ">   \n",
    ">Jeremy Howard, [Swift For TensorFlow AND FastAI: Part 2](https://www.youtube.com/watch?v=Zr4QI64kUI4&list=PLderfcX9H9Mq8hv4W2ixqSTynwvBn9ppD&t=9m12s) (featuring Chris Lattner)\n",
    "\n",
    "Monkey patching refers to the practise of dynamically modifying classes and modules.  This is done quite frequently in the `fastai` library.\n",
    "\n",
    "This notebook dissects one common example, namely the [`ls()` method](https://fastcore.fast.ai/utils#Path.ls) add to the `Path` class from the `pathlib` `Python` library, which funcationalities reminiscent of the [`ls` command in `bash`](https://ss64.com/bash/ls.html).  From the `fastcore` documentation:  \n",
    ">We add an `ls()` method to `pathlib.Path` which is simply defined as `list(Path.iterdir())`, mainly for convenience in REPL environments such as notebooks."
   ]
  },
  {
   "cell_type": "markdown",
   "metadata": {},
   "source": [
    "# The `pathlib` module"
   ]
  },
  {
   "cell_type": "markdown",
   "metadata": {},
   "source": [
    "The [`pathlib`](https://docs.python.org/3/library/pathlib.html) module provides functionalities to handle filesystem paths."
   ]
  },
  {
   "cell_type": "code",
   "execution_count": 1,
   "metadata": {},
   "outputs": [
    {
     "name": "stdout",
     "output_type": "stream",
     "text": [
      "Path to home directory:         /Users/antoine\n",
      "Object path has attribute ls:   False\n"
     ]
    }
   ],
   "source": [
    "# collapse-hide\n",
    "from pathlib import Path\n",
    "\n",
    "path = Path().home()\n",
    "dir_native = dir(path)\n",
    "print(f\"Path to home directory:         {str(path)}\")\n",
    "print(f'Object path has attribute ls:   {\"ls\" in dir_native}')"
   ]
  },
  {
   "cell_type": "markdown",
   "metadata": {},
   "source": [
    "# Supercharged `Path` objects in `fastai`"
   ]
  },
  {
   "cell_type": "markdown",
   "metadata": {},
   "source": [
    "We first remove the `Path` class from our scope so that we can load it again via `fastai` (read on):"
   ]
  },
  {
   "cell_type": "code",
   "execution_count": 2,
   "metadata": {},
   "outputs": [
    {
     "name": "stdout",
     "output_type": "stream",
     "text": [
      "Class \"Path\" has been removed.\n"
     ]
    }
   ],
   "source": [
    "%xdel Path\n",
    "try:\n",
    "    Path\n",
    "    print(\"This will fail so this won't print\")\n",
    "except NameError:\n",
    "    print(\"Class \\\"Path\\\" has been removed.\")"
   ]
  },
  {
   "cell_type": "markdown",
   "metadata": {},
   "source": [
    "The following will automatically load `Path` (among many other things):"
   ]
  },
  {
   "cell_type": "code",
   "execution_count": 3,
   "metadata": {},
   "outputs": [
    {
     "name": "stdout",
     "output_type": "stream",
     "text": [
      "Path to home directory:         /Users/antoine\n",
      "Object path has attribute ls:   True\n"
     ]
    }
   ],
   "source": [
    "from fastai2.vision.all import *\n",
    "\n",
    "path = Path().home()\n",
    "dir_fastai = dir(path)\n",
    "print(f\"Path to home directory:         {str(path)}\")\n",
    "print(f'Object path has attribute ls:   {\"ls\" in dir_fastai}')"
   ]
  },
  {
   "cell_type": "markdown",
   "metadata": {},
   "source": [
    "The `ls()` method is one of several attributes that `fastai` (in fact, `fastcore`, read on) adds to the `Path` class.  The list of added attributes is:"
   ]
  },
  {
   "cell_type": "code",
   "execution_count": 4,
   "metadata": {},
   "outputs": [
    {
     "data": {
      "text/plain": [
       "{'load',\n",
       " 'load_array',\n",
       " 'ls',\n",
       " 'read',\n",
       " 'readlines',\n",
       " 'save',\n",
       " 'save_array',\n",
       " 'write'}"
      ]
     },
     "execution_count": 4,
     "metadata": {},
     "output_type": "execute_result"
    }
   ],
   "source": [
    "set(dir_fastai) - set(dir_native)"
   ]
  },
  {
   "cell_type": "markdown",
   "metadata": {},
   "source": [
    "# Where is `Path.ls` defined?"
   ]
  },
  {
   "cell_type": "code",
   "execution_count": 5,
   "metadata": {},
   "outputs": [
    {
     "name": "stdout",
     "output_type": "stream",
     "text": [
      "Path.ls is defined in: /Users/antoine/fastai/fastcore/fastcore/utils.py\n"
     ]
    }
   ],
   "source": [
    "import inspect\n",
    "print(f\"Path.ls is defined in: {inspect.getmodule(path.ls).__file__}\")"
   ]
  },
  {
   "cell_type": "markdown",
   "metadata": {},
   "source": [
    "In the particular of the class `Path`, the added attributes are defined in the `fastcore` library, which unlike `fastai` does not depend on `PyTorch`."
   ]
  },
  {
   "cell_type": "markdown",
   "metadata": {},
   "source": [
    "# Slimfastai: loading attributes added to `Path` only"
   ]
  },
  {
   "cell_type": "markdown",
   "metadata": {},
   "source": [
    "Invoking `from fastai2.vision.all` loads many other things.  In order to load only those attributes added to `Path`, run:"
   ]
  },
  {
   "cell_type": "code",
   "execution_count": 6,
   "metadata": {},
   "outputs": [
    {
     "name": "stdout",
     "output_type": "stream",
     "text": [
      "Class \"Path\" has been removed.\n",
      "Path to home directory:         /Users/antoine\n",
      "Object path has attribute ls:   True\n",
      "Attributes added to \"Path\" in \"fastcore.utils.py\"\n",
      "{'load_array', 'save_array', 'load', 'save', 'ls', 'readlines', 'write', 'read'}\n"
     ]
    }
   ],
   "source": [
    "%xdel Path\n",
    "try:\n",
    "    Path\n",
    "    print(\"This will fail so this won't print\")\n",
    "except NameError:\n",
    "    print(\"Class \\\"Path\\\" has been removed.\")\n",
    "from pathlib import Path\n",
    "from fastcore.utils import ls\n",
    "\n",
    "path = Path().home()\n",
    "dir_slimfastai = dir(path) # record attributes for later use\n",
    "print(f\"Path to home directory:         {str(path)}\")\n",
    "print(f'Object path has attribute ls:   {\"ls\" in dir_slimfastai}')\n",
    "print(f\"Attributes added to \\\"Path\\\" in \\\"fastcore.utils.py\\\"\")\n",
    "print(set(dir_slimfastai) - set(dir_native))"
   ]
  },
  {
   "cell_type": "code",
   "execution_count": null,
   "metadata": {},
   "outputs": [],
   "source": []
  }
 ],
 "metadata": {
  "kernelspec": {
   "display_name": "Python 3",
   "language": "python",
   "name": "python3"
  },
  "language_info": {
   "codemirror_mode": {
    "name": "ipython",
    "version": 3
   },
   "file_extension": ".py",
   "mimetype": "text/x-python",
   "name": "python",
   "nbconvert_exporter": "python",
   "pygments_lexer": "ipython3",
   "version": "3.8.1"
  }
 },
 "nbformat": 4,
 "nbformat_minor": 4
}
